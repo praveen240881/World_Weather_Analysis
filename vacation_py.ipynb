{
 "cells": [
  {
   "cell_type": "markdown",
   "metadata": {},
   "source": [
    "# Vacation Destinations "
   ]
  },
  {
   "cell_type": "code",
   "execution_count": 1,
   "metadata": {},
   "outputs": [],
   "source": [
    "# Dependencies\n",
    "import pandas as pd\n",
    "import gmaps\n",
    "import requests\n",
    "from config import g_key"
   ]
  },
  {
   "cell_type": "code",
   "execution_count": 5,
   "metadata": {},
   "outputs": [
    {
     "data": {
      "text/html": [
       "<div>\n",
       "<style scoped>\n",
       "    .dataframe tbody tr th:only-of-type {\n",
       "        vertical-align: middle;\n",
       "    }\n",
       "\n",
       "    .dataframe tbody tr th {\n",
       "        vertical-align: top;\n",
       "    }\n",
       "\n",
       "    .dataframe thead th {\n",
       "        text-align: right;\n",
       "    }\n",
       "</style>\n",
       "<table border=\"1\" class=\"dataframe\">\n",
       "  <thead>\n",
       "    <tr style=\"text-align: right;\">\n",
       "      <th></th>\n",
       "      <th>City_ID</th>\n",
       "      <th>City</th>\n",
       "      <th>Country</th>\n",
       "      <th>Date</th>\n",
       "      <th>Lat</th>\n",
       "      <th>Lng</th>\n",
       "      <th>Max Temp</th>\n",
       "      <th>Humidity</th>\n",
       "      <th>Cloudiness</th>\n",
       "      <th>Wind Speed</th>\n",
       "    </tr>\n",
       "  </thead>\n",
       "  <tbody>\n",
       "    <tr>\n",
       "      <th>0</th>\n",
       "      <td>0</td>\n",
       "      <td>Albany</td>\n",
       "      <td>US</td>\n",
       "      <td>2020-08-17 22:16:43</td>\n",
       "      <td>42.60</td>\n",
       "      <td>-73.97</td>\n",
       "      <td>75.00</td>\n",
       "      <td>71</td>\n",
       "      <td>3</td>\n",
       "      <td>5.61</td>\n",
       "    </tr>\n",
       "    <tr>\n",
       "      <th>1</th>\n",
       "      <td>1</td>\n",
       "      <td>Hermanus</td>\n",
       "      <td>ZA</td>\n",
       "      <td>2020-08-17 22:14:09</td>\n",
       "      <td>-34.42</td>\n",
       "      <td>19.23</td>\n",
       "      <td>46.99</td>\n",
       "      <td>79</td>\n",
       "      <td>93</td>\n",
       "      <td>7.00</td>\n",
       "    </tr>\n",
       "    <tr>\n",
       "      <th>2</th>\n",
       "      <td>2</td>\n",
       "      <td>Dikson</td>\n",
       "      <td>RU</td>\n",
       "      <td>2020-08-17 22:16:44</td>\n",
       "      <td>73.51</td>\n",
       "      <td>80.55</td>\n",
       "      <td>50.13</td>\n",
       "      <td>93</td>\n",
       "      <td>76</td>\n",
       "      <td>13.00</td>\n",
       "    </tr>\n",
       "    <tr>\n",
       "      <th>3</th>\n",
       "      <td>3</td>\n",
       "      <td>Saint George</td>\n",
       "      <td>US</td>\n",
       "      <td>2020-08-17 22:15:18</td>\n",
       "      <td>37.10</td>\n",
       "      <td>-113.58</td>\n",
       "      <td>111.99</td>\n",
       "      <td>5</td>\n",
       "      <td>1</td>\n",
       "      <td>10.29</td>\n",
       "    </tr>\n",
       "    <tr>\n",
       "      <th>4</th>\n",
       "      <td>4</td>\n",
       "      <td>Puerto El Triunfo</td>\n",
       "      <td>SV</td>\n",
       "      <td>2020-08-17 22:16:44</td>\n",
       "      <td>13.28</td>\n",
       "      <td>-88.55</td>\n",
       "      <td>95.00</td>\n",
       "      <td>59</td>\n",
       "      <td>20</td>\n",
       "      <td>4.14</td>\n",
       "    </tr>\n",
       "  </tbody>\n",
       "</table>\n",
       "</div>"
      ],
      "text/plain": [
       "   City_ID               City Country                 Date    Lat     Lng  \\\n",
       "0        0             Albany      US  2020-08-17 22:16:43  42.60  -73.97   \n",
       "1        1           Hermanus      ZA  2020-08-17 22:14:09 -34.42   19.23   \n",
       "2        2             Dikson      RU  2020-08-17 22:16:44  73.51   80.55   \n",
       "3        3       Saint George      US  2020-08-17 22:15:18  37.10 -113.58   \n",
       "4        4  Puerto El Triunfo      SV  2020-08-17 22:16:44  13.28  -88.55   \n",
       "\n",
       "   Max Temp  Humidity  Cloudiness  Wind Speed  \n",
       "0     75.00        71           3        5.61  \n",
       "1     46.99        79          93        7.00  \n",
       "2     50.13        93          76       13.00  \n",
       "3    111.99         5           1       10.29  \n",
       "4     95.00        59          20        4.14  "
      ]
     },
     "execution_count": 5,
     "metadata": {},
     "output_type": "execute_result"
    }
   ],
   "source": [
    "# Import cities DF from CSV file \n",
    "city_data_df = pd.read_csv(\"weather_data/cities.csv\")\n",
    "city_data_df.head()\n"
   ]
  },
  {
   "cell_type": "code",
   "execution_count": 6,
   "metadata": {},
   "outputs": [
    {
     "data": {
      "text/plain": [
       "City_ID         int64\n",
       "City           object\n",
       "Country        object\n",
       "Date           object\n",
       "Lat           float64\n",
       "Lng           float64\n",
       "Max Temp      float64\n",
       "Humidity        int64\n",
       "Cloudiness      int64\n",
       "Wind Speed    float64\n",
       "dtype: object"
      ]
     },
     "execution_count": 6,
     "metadata": {},
     "output_type": "execute_result"
    }
   ],
   "source": [
    "city_data_df.dtypes"
   ]
  },
  {
   "cell_type": "code",
   "execution_count": 7,
   "metadata": {},
   "outputs": [],
   "source": [
    "# Configure Gmaps to use personal API key\n",
    "gmaps.configure(api_key=g_key)"
   ]
  },
  {
   "cell_type": "markdown",
   "metadata": {},
   "source": [
    "## Heat Maps"
   ]
  },
  {
   "cell_type": "markdown",
   "metadata": {},
   "source": [
    "### Heatmap of Max Temp "
   ]
  },
  {
   "cell_type": "code",
   "execution_count": 19,
   "metadata": {},
   "outputs": [
    {
     "data": {
      "application/vnd.jupyter.widget-view+json": {
       "model_id": "2b2bc93b4adc43f4bed08b5d7b79a29a",
       "version_major": 2,
       "version_minor": 0
      },
      "text/plain": [
       "Figure(layout=FigureLayout(height='420px'))"
      ]
     },
     "metadata": {},
     "output_type": "display_data"
    }
   ],
   "source": [
    "# Get locations \n",
    "locations = city_data_df[[\"Lat\",\"Lng\"]]\n",
    "\n",
    "# Get temperatures of locations \n",
    "max_temp = city_data_df[\"Max Temp\"]\n",
    "\n",
    "# Create figure\n",
    "fig = gmaps.figure(center=(30.0, 31.0), zoom_level=1.4)\n",
    "\n",
    "# Create heatmap layer\n",
    "heat_layer = gmaps.heatmap_layer(locations, weights=[max(temp, 0) for temp in max_temp],\n",
    "                                 dissipating=False, max_intensity=300, point_radius=4)\n",
    "\n",
    "# Combine heatmap to figure\n",
    "fig.add_layer(heat_layer)\n",
    "\n",
    "# Show figure\n",
    "fig"
   ]
  },
  {
   "cell_type": "markdown",
   "metadata": {},
   "source": [
    "### Heatmap of Humidity"
   ]
  },
  {
   "cell_type": "code",
   "execution_count": 18,
   "metadata": {},
   "outputs": [
    {
     "data": {
      "application/vnd.jupyter.widget-view+json": {
       "model_id": "f77f07d6cca04637b861c0c427d770a8",
       "version_major": 2,
       "version_minor": 0
      },
      "text/plain": [
       "Figure(layout=FigureLayout(height='420px'))"
      ]
     },
     "metadata": {},
     "output_type": "display_data"
    }
   ],
   "source": [
    "# Get locations \n",
    "locations = city_data_df[[\"Lat\",\"Lng\"]]\n",
    "\n",
    "# Get humidity of locations \n",
    "humidity = city_data_df[\"Humidity\"]\n",
    "\n",
    "# Create figure\n",
    "fig = gmaps.figure(center=(30.0, 31.0), zoom_level=1.4)\n",
    "\n",
    "# Create heatmap layer\n",
    "heat_layer = gmaps.heatmap_layer(locations, weights=humidity,\n",
    "                                 dissipating=False, max_intensity=300,\n",
    "                                 point_radius=4)\n",
    "\n",
    "# Combine heatmap to figure\n",
    "fig.add_layer(heat_layer)\n",
    "\n",
    "# Show figure\n",
    "fig"
   ]
  },
  {
   "cell_type": "markdown",
   "metadata": {},
   "source": [
    "### Heatmap of Cloudiness"
   ]
  },
  {
   "cell_type": "code",
   "execution_count": 20,
   "metadata": {},
   "outputs": [
    {
     "data": {
      "application/vnd.jupyter.widget-view+json": {
       "model_id": "de7ce05f6e4b471d89513ad25aa5c9db",
       "version_major": 2,
       "version_minor": 0
      },
      "text/plain": [
       "Figure(layout=FigureLayout(height='420px'))"
      ]
     },
     "metadata": {},
     "output_type": "display_data"
    }
   ],
   "source": [
    "# Get locations \n",
    "locations = city_data_df[[\"Lat\",\"Lng\"]]\n",
    "\n",
    "# Get clouds of locations \n",
    "cloudiness = city_data_df[\"Cloudiness\"]\n",
    "\n",
    "# Create figure\n",
    "fig = gmaps.figure(center=(30.0, 31.0), zoom_level=1.4)\n",
    "\n",
    "# Create heatmap layer\n",
    "heat_layer = gmaps.heatmap_layer(locations, weights=cloudiness,\n",
    "                                 dissipating=False, max_intensity=300,\n",
    "                                 point_radius=4)\n",
    "\n",
    "# Combine heatmap to figure\n",
    "fig.add_layer(heat_layer)\n",
    "\n",
    "# Show figure\n",
    "fig"
   ]
  },
  {
   "cell_type": "markdown",
   "metadata": {},
   "source": [
    "### Heatmap of Wind Speed"
   ]
  },
  {
   "cell_type": "code",
   "execution_count": 21,
   "metadata": {},
   "outputs": [
    {
     "data": {
      "application/vnd.jupyter.widget-view+json": {
       "model_id": "f946c97e03694f018c14bcb5b733ab18",
       "version_major": 2,
       "version_minor": 0
      },
      "text/plain": [
       "Figure(layout=FigureLayout(height='420px'))"
      ]
     },
     "metadata": {},
     "output_type": "display_data"
    }
   ],
   "source": [
    "# Get locations \n",
    "locations = city_data_df[[\"Lat\",\"Lng\"]]\n",
    "\n",
    "# Get wind speed of locations \n",
    "wind = city_data_df[\"Wind Speed\"]\n",
    "\n",
    "# Create figure\n",
    "fig = gmaps.figure(center=(30.0, 31.0), zoom_level=1.4)\n",
    "\n",
    "# Create heatmap layer\n",
    "heat_layer = gmaps.heatmap_layer(locations, weights=wind,\n",
    "                                 dissipating=False, max_intensity=300,\n",
    "                                 point_radius=4)\n",
    "\n",
    "# Combine heatmap to figure\n",
    "fig.add_layer(heat_layer)\n",
    "\n",
    "# Show figure\n",
    "fig"
   ]
  },
  {
   "cell_type": "markdown",
   "metadata": {},
   "source": [
    "## Vacation Criteria"
   ]
  },
  {
   "cell_type": "markdown",
   "metadata": {},
   "source": [
    "### Preferred locations based on Max Temperature"
   ]
  },
  {
   "cell_type": "code",
   "execution_count": 22,
   "metadata": {},
   "outputs": [
    {
     "name": "stdout",
     "output_type": "stream",
     "text": [
      "What is the mininum tempurature you would like to vacation at? 75\n",
      "What is the maximum tempurature you would like to vacation at? 90\n"
     ]
    }
   ],
   "source": [
    "# Ask customers what are their desired max and min temperatures\n",
    "min_temp = float(input(\"What is the mininum tempurature you would like to vacation at? \"))\n",
    "max_temp = float(input(\"What is the maximum tempurature you would like to vacation at? \"))"
   ]
  },
  {
   "cell_type": "code",
   "execution_count": 26,
   "metadata": {},
   "outputs": [
    {
     "data": {
      "text/html": [
       "<div>\n",
       "<style scoped>\n",
       "    .dataframe tbody tr th:only-of-type {\n",
       "        vertical-align: middle;\n",
       "    }\n",
       "\n",
       "    .dataframe tbody tr th {\n",
       "        vertical-align: top;\n",
       "    }\n",
       "\n",
       "    .dataframe thead th {\n",
       "        text-align: right;\n",
       "    }\n",
       "</style>\n",
       "<table border=\"1\" class=\"dataframe\">\n",
       "  <thead>\n",
       "    <tr style=\"text-align: right;\">\n",
       "      <th></th>\n",
       "      <th>City_ID</th>\n",
       "      <th>City</th>\n",
       "      <th>Country</th>\n",
       "      <th>Date</th>\n",
       "      <th>Lat</th>\n",
       "      <th>Lng</th>\n",
       "      <th>Max Temp</th>\n",
       "      <th>Humidity</th>\n",
       "      <th>Cloudiness</th>\n",
       "      <th>Wind Speed</th>\n",
       "    </tr>\n",
       "  </thead>\n",
       "  <tbody>\n",
       "    <tr>\n",
       "      <th>0</th>\n",
       "      <td>0</td>\n",
       "      <td>Albany</td>\n",
       "      <td>US</td>\n",
       "      <td>2020-08-17 22:16:43</td>\n",
       "      <td>42.60</td>\n",
       "      <td>-73.97</td>\n",
       "      <td>75.00</td>\n",
       "      <td>71</td>\n",
       "      <td>3</td>\n",
       "      <td>5.61</td>\n",
       "    </tr>\n",
       "    <tr>\n",
       "      <th>15</th>\n",
       "      <td>15</td>\n",
       "      <td>Padang</td>\n",
       "      <td>ID</td>\n",
       "      <td>2020-08-17 22:16:45</td>\n",
       "      <td>-0.95</td>\n",
       "      <td>100.35</td>\n",
       "      <td>76.66</td>\n",
       "      <td>72</td>\n",
       "      <td>53</td>\n",
       "      <td>4.03</td>\n",
       "    </tr>\n",
       "    <tr>\n",
       "      <th>18</th>\n",
       "      <td>18</td>\n",
       "      <td>Tautira</td>\n",
       "      <td>PF</td>\n",
       "      <td>2020-08-17 22:16:46</td>\n",
       "      <td>-17.73</td>\n",
       "      <td>-149.15</td>\n",
       "      <td>82.40</td>\n",
       "      <td>58</td>\n",
       "      <td>75</td>\n",
       "      <td>11.41</td>\n",
       "    </tr>\n",
       "    <tr>\n",
       "      <th>21</th>\n",
       "      <td>21</td>\n",
       "      <td>Micheweni</td>\n",
       "      <td>TZ</td>\n",
       "      <td>2020-08-17 22:16:46</td>\n",
       "      <td>-4.97</td>\n",
       "      <td>39.83</td>\n",
       "      <td>75.81</td>\n",
       "      <td>81</td>\n",
       "      <td>99</td>\n",
       "      <td>12.24</td>\n",
       "    </tr>\n",
       "    <tr>\n",
       "      <th>22</th>\n",
       "      <td>22</td>\n",
       "      <td>Sola</td>\n",
       "      <td>VU</td>\n",
       "      <td>2020-08-17 22:16:46</td>\n",
       "      <td>-13.88</td>\n",
       "      <td>167.55</td>\n",
       "      <td>80.60</td>\n",
       "      <td>88</td>\n",
       "      <td>75</td>\n",
       "      <td>5.82</td>\n",
       "    </tr>\n",
       "    <tr>\n",
       "      <th>...</th>\n",
       "      <td>...</td>\n",
       "      <td>...</td>\n",
       "      <td>...</td>\n",
       "      <td>...</td>\n",
       "      <td>...</td>\n",
       "      <td>...</td>\n",
       "      <td>...</td>\n",
       "      <td>...</td>\n",
       "      <td>...</td>\n",
       "      <td>...</td>\n",
       "    </tr>\n",
       "    <tr>\n",
       "      <th>523</th>\n",
       "      <td>523</td>\n",
       "      <td>Ishigaki</td>\n",
       "      <td>JP</td>\n",
       "      <td>2020-08-17 22:17:51</td>\n",
       "      <td>24.34</td>\n",
       "      <td>124.16</td>\n",
       "      <td>80.60</td>\n",
       "      <td>88</td>\n",
       "      <td>75</td>\n",
       "      <td>6.93</td>\n",
       "    </tr>\n",
       "    <tr>\n",
       "      <th>531</th>\n",
       "      <td>531</td>\n",
       "      <td>Seoul</td>\n",
       "      <td>KR</td>\n",
       "      <td>2020-08-17 22:16:57</td>\n",
       "      <td>37.57</td>\n",
       "      <td>126.98</td>\n",
       "      <td>75.20</td>\n",
       "      <td>100</td>\n",
       "      <td>1</td>\n",
       "      <td>1.03</td>\n",
       "    </tr>\n",
       "    <tr>\n",
       "      <th>532</th>\n",
       "      <td>532</td>\n",
       "      <td>Tuskegee</td>\n",
       "      <td>US</td>\n",
       "      <td>2020-08-17 22:17:52</td>\n",
       "      <td>32.42</td>\n",
       "      <td>-85.69</td>\n",
       "      <td>88.00</td>\n",
       "      <td>78</td>\n",
       "      <td>96</td>\n",
       "      <td>6.42</td>\n",
       "    </tr>\n",
       "    <tr>\n",
       "      <th>535</th>\n",
       "      <td>535</td>\n",
       "      <td>Kavaratti</td>\n",
       "      <td>IN</td>\n",
       "      <td>2020-08-17 22:17:52</td>\n",
       "      <td>10.57</td>\n",
       "      <td>72.64</td>\n",
       "      <td>81.01</td>\n",
       "      <td>82</td>\n",
       "      <td>91</td>\n",
       "      <td>13.06</td>\n",
       "    </tr>\n",
       "    <tr>\n",
       "      <th>540</th>\n",
       "      <td>540</td>\n",
       "      <td>Buala</td>\n",
       "      <td>SB</td>\n",
       "      <td>2020-08-17 22:17:53</td>\n",
       "      <td>-8.14</td>\n",
       "      <td>159.59</td>\n",
       "      <td>83.07</td>\n",
       "      <td>73</td>\n",
       "      <td>80</td>\n",
       "      <td>3.76</td>\n",
       "    </tr>\n",
       "  </tbody>\n",
       "</table>\n",
       "<p>179 rows × 10 columns</p>\n",
       "</div>"
      ],
      "text/plain": [
       "     City_ID       City Country                 Date    Lat     Lng  Max Temp  \\\n",
       "0          0     Albany      US  2020-08-17 22:16:43  42.60  -73.97     75.00   \n",
       "15        15     Padang      ID  2020-08-17 22:16:45  -0.95  100.35     76.66   \n",
       "18        18    Tautira      PF  2020-08-17 22:16:46 -17.73 -149.15     82.40   \n",
       "21        21  Micheweni      TZ  2020-08-17 22:16:46  -4.97   39.83     75.81   \n",
       "22        22       Sola      VU  2020-08-17 22:16:46 -13.88  167.55     80.60   \n",
       "..       ...        ...     ...                  ...    ...     ...       ...   \n",
       "523      523   Ishigaki      JP  2020-08-17 22:17:51  24.34  124.16     80.60   \n",
       "531      531      Seoul      KR  2020-08-17 22:16:57  37.57  126.98     75.20   \n",
       "532      532   Tuskegee      US  2020-08-17 22:17:52  32.42  -85.69     88.00   \n",
       "535      535  Kavaratti      IN  2020-08-17 22:17:52  10.57   72.64     81.01   \n",
       "540      540      Buala      SB  2020-08-17 22:17:53  -8.14  159.59     83.07   \n",
       "\n",
       "     Humidity  Cloudiness  Wind Speed  \n",
       "0          71           3        5.61  \n",
       "15         72          53        4.03  \n",
       "18         58          75       11.41  \n",
       "21         81          99       12.24  \n",
       "22         88          75        5.82  \n",
       "..        ...         ...         ...  \n",
       "523        88          75        6.93  \n",
       "531       100           1        1.03  \n",
       "532        78          96        6.42  \n",
       "535        82          91       13.06  \n",
       "540        73          80        3.76  \n",
       "\n",
       "[179 rows x 10 columns]"
      ]
     },
     "execution_count": 26,
     "metadata": {},
     "output_type": "execute_result"
    }
   ],
   "source": [
    "# Create DF of cities that fall between the customer's desired temperatures\n",
    "preferred_cities_df  = city_data_df.loc[(city_data_df[\"Max Temp\"] >= min_temp) &\n",
    "                                (city_data_df[\"Max Temp\"] <= max_temp)]\n",
    "preferred_cities_df"
   ]
  },
  {
   "cell_type": "code",
   "execution_count": 27,
   "metadata": {},
   "outputs": [
    {
     "data": {
      "text/plain": [
       "City_ID       179\n",
       "City          179\n",
       "Country       179\n",
       "Date          179\n",
       "Lat           179\n",
       "Lng           179\n",
       "Max Temp      179\n",
       "Humidity      179\n",
       "Cloudiness    179\n",
       "Wind Speed    179\n",
       "dtype: int64"
      ]
     },
     "execution_count": 27,
     "metadata": {},
     "output_type": "execute_result"
    }
   ],
   "source": [
    "preferred_cities_df.count()"
   ]
  },
  {
   "cell_type": "code",
   "execution_count": 28,
   "metadata": {},
   "outputs": [
    {
     "data": {
      "text/plain": [
       "City_ID       0\n",
       "City          0\n",
       "Country       0\n",
       "Date          0\n",
       "Lat           0\n",
       "Lng           0\n",
       "Max Temp      0\n",
       "Humidity      0\n",
       "Cloudiness    0\n",
       "Wind Speed    0\n",
       "dtype: int64"
      ]
     },
     "execution_count": 28,
     "metadata": {},
     "output_type": "execute_result"
    }
   ],
   "source": [
    "preferred_cities_df.isnull().sum()"
   ]
  },
  {
   "cell_type": "markdown",
   "metadata": {},
   "source": [
    "### Hotels at Preferred Cities"
   ]
  },
  {
   "cell_type": "code",
   "execution_count": 29,
   "metadata": {},
   "outputs": [
    {
     "data": {
      "text/html": [
       "<div>\n",
       "<style scoped>\n",
       "    .dataframe tbody tr th:only-of-type {\n",
       "        vertical-align: middle;\n",
       "    }\n",
       "\n",
       "    .dataframe tbody tr th {\n",
       "        vertical-align: top;\n",
       "    }\n",
       "\n",
       "    .dataframe thead th {\n",
       "        text-align: right;\n",
       "    }\n",
       "</style>\n",
       "<table border=\"1\" class=\"dataframe\">\n",
       "  <thead>\n",
       "    <tr style=\"text-align: right;\">\n",
       "      <th></th>\n",
       "      <th>City</th>\n",
       "      <th>Country</th>\n",
       "      <th>Max Temp</th>\n",
       "      <th>Lat</th>\n",
       "      <th>Lng</th>\n",
       "      <th>Hotel Name</th>\n",
       "    </tr>\n",
       "  </thead>\n",
       "  <tbody>\n",
       "    <tr>\n",
       "      <th>0</th>\n",
       "      <td>Albany</td>\n",
       "      <td>US</td>\n",
       "      <td>75.00</td>\n",
       "      <td>42.60</td>\n",
       "      <td>-73.97</td>\n",
       "      <td></td>\n",
       "    </tr>\n",
       "    <tr>\n",
       "      <th>15</th>\n",
       "      <td>Padang</td>\n",
       "      <td>ID</td>\n",
       "      <td>76.66</td>\n",
       "      <td>-0.95</td>\n",
       "      <td>100.35</td>\n",
       "      <td></td>\n",
       "    </tr>\n",
       "    <tr>\n",
       "      <th>18</th>\n",
       "      <td>Tautira</td>\n",
       "      <td>PF</td>\n",
       "      <td>82.40</td>\n",
       "      <td>-17.73</td>\n",
       "      <td>-149.15</td>\n",
       "      <td></td>\n",
       "    </tr>\n",
       "    <tr>\n",
       "      <th>21</th>\n",
       "      <td>Micheweni</td>\n",
       "      <td>TZ</td>\n",
       "      <td>75.81</td>\n",
       "      <td>-4.97</td>\n",
       "      <td>39.83</td>\n",
       "      <td></td>\n",
       "    </tr>\n",
       "    <tr>\n",
       "      <th>22</th>\n",
       "      <td>Sola</td>\n",
       "      <td>VU</td>\n",
       "      <td>80.60</td>\n",
       "      <td>-13.88</td>\n",
       "      <td>167.55</td>\n",
       "      <td></td>\n",
       "    </tr>\n",
       "    <tr>\n",
       "      <th>23</th>\n",
       "      <td>Sibolga</td>\n",
       "      <td>ID</td>\n",
       "      <td>76.10</td>\n",
       "      <td>1.74</td>\n",
       "      <td>98.78</td>\n",
       "      <td></td>\n",
       "    </tr>\n",
       "    <tr>\n",
       "      <th>24</th>\n",
       "      <td>Bethel</td>\n",
       "      <td>US</td>\n",
       "      <td>77.00</td>\n",
       "      <td>41.37</td>\n",
       "      <td>-73.41</td>\n",
       "      <td></td>\n",
       "    </tr>\n",
       "    <tr>\n",
       "      <th>28</th>\n",
       "      <td>Det Udom</td>\n",
       "      <td>TH</td>\n",
       "      <td>77.00</td>\n",
       "      <td>14.91</td>\n",
       "      <td>105.08</td>\n",
       "      <td></td>\n",
       "    </tr>\n",
       "    <tr>\n",
       "      <th>29</th>\n",
       "      <td>Bengkulu</td>\n",
       "      <td>ID</td>\n",
       "      <td>75.11</td>\n",
       "      <td>-3.80</td>\n",
       "      <td>102.27</td>\n",
       "      <td></td>\n",
       "    </tr>\n",
       "    <tr>\n",
       "      <th>32</th>\n",
       "      <td>Correntina</td>\n",
       "      <td>BR</td>\n",
       "      <td>78.30</td>\n",
       "      <td>-13.34</td>\n",
       "      <td>-44.64</td>\n",
       "      <td></td>\n",
       "    </tr>\n",
       "  </tbody>\n",
       "</table>\n",
       "</div>"
      ],
      "text/plain": [
       "          City Country  Max Temp    Lat     Lng Hotel Name\n",
       "0       Albany      US     75.00  42.60  -73.97           \n",
       "15      Padang      ID     76.66  -0.95  100.35           \n",
       "18     Tautira      PF     82.40 -17.73 -149.15           \n",
       "21   Micheweni      TZ     75.81  -4.97   39.83           \n",
       "22        Sola      VU     80.60 -13.88  167.55           \n",
       "23     Sibolga      ID     76.10   1.74   98.78           \n",
       "24      Bethel      US     77.00  41.37  -73.41           \n",
       "28    Det Udom      TH     77.00  14.91  105.08           \n",
       "29    Bengkulu      ID     75.11  -3.80  102.27           \n",
       "32  Correntina      BR     78.30 -13.34  -44.64           "
      ]
     },
     "execution_count": 29,
     "metadata": {},
     "output_type": "execute_result"
    }
   ],
   "source": [
    "# Create Hotel DF to add in hotels to preferred cities DF\n",
    "hotel_df = preferred_cities_df[[\"City\", \"Country\", \"Max Temp\", \"Lat\", \"Lng\"]].copy()\n",
    "hotel_df[\"Hotel Name\"] = \"\"\n",
    "hotel_df.head(10)"
   ]
  },
  {
   "cell_type": "code",
   "execution_count": 30,
   "metadata": {},
   "outputs": [],
   "source": [
    "# Set parameters to search for hotels in each location\n",
    "params = {\n",
    "    \"radius\": 5000,\n",
    "    \"type\": \"lodging\",\n",
    "    \"key\": g_key\n",
    "}\n"
   ]
  },
  {
   "cell_type": "code",
   "execution_count": 45,
   "metadata": {},
   "outputs": [
    {
     "name": "stdout",
     "output_type": "stream",
     "text": [
      "No hotel found...skipping.\n",
      "No hotel found...skipping.\n",
      "No hotel found...skipping.\n",
      "No hotel found...skipping.\n",
      "No hotel found...skipping.\n",
      "No hotel found...skipping.\n",
      "No hotel found...skipping.\n",
      "No hotel found...skipping.\n",
      "No hotel found...skipping.\n",
      "No hotel found...skipping.\n",
      "No hotel found...skipping.\n"
     ]
    }
   ],
   "source": [
    "# iterate through hotel DF to get locations for each city\n",
    "for index, row in hotel_df.iterrows():\n",
    "    lat = row['Lat']\n",
    "    lng = row['Lng']\n",
    "    \n",
    "    # Add latitude and longitude to parameters for search\n",
    "    params[\"location\"] = f\"{lat},{lng}\"\n",
    "    \n",
    "    # Create base_url for search\n",
    "    base_url = \"https://maps.googleapis.com/maps/api/place/nearbysearch/json\"\n",
    "    \n",
    "    # Make request and get the JSON data\n",
    "    hotels = requests.get(base_url, params=params).json()\n",
    "    \n",
    "    # Store name of first hotel in hotel DF\n",
    "    try:\n",
    "        hotel_df.loc[index, \"Hotel Name\"] = hotels[\"results\"][0][\"name\"]\n",
    "        \n",
    "    except (IndexError): \n",
    "        print(\"No hotel found...skipping.\")"
   ]
  },
  {
   "cell_type": "code",
   "execution_count": 46,
   "metadata": {
    "scrolled": false
   },
   "outputs": [
    {
     "data": {
      "text/html": [
       "<div>\n",
       "<style scoped>\n",
       "    .dataframe tbody tr th:only-of-type {\n",
       "        vertical-align: middle;\n",
       "    }\n",
       "\n",
       "    .dataframe tbody tr th {\n",
       "        vertical-align: top;\n",
       "    }\n",
       "\n",
       "    .dataframe thead th {\n",
       "        text-align: right;\n",
       "    }\n",
       "</style>\n",
       "<table border=\"1\" class=\"dataframe\">\n",
       "  <thead>\n",
       "    <tr style=\"text-align: right;\">\n",
       "      <th></th>\n",
       "      <th>City</th>\n",
       "      <th>Country</th>\n",
       "      <th>Max Temp</th>\n",
       "      <th>Lat</th>\n",
       "      <th>Lng</th>\n",
       "      <th>Hotel Name</th>\n",
       "    </tr>\n",
       "  </thead>\n",
       "  <tbody>\n",
       "    <tr>\n",
       "      <th>0</th>\n",
       "      <td>Albany</td>\n",
       "      <td>US</td>\n",
       "      <td>75.00</td>\n",
       "      <td>42.60</td>\n",
       "      <td>-73.97</td>\n",
       "      <td></td>\n",
       "    </tr>\n",
       "    <tr>\n",
       "      <th>15</th>\n",
       "      <td>Padang</td>\n",
       "      <td>ID</td>\n",
       "      <td>76.66</td>\n",
       "      <td>-0.95</td>\n",
       "      <td>100.35</td>\n",
       "      <td>Mercure Padang</td>\n",
       "    </tr>\n",
       "    <tr>\n",
       "      <th>18</th>\n",
       "      <td>Tautira</td>\n",
       "      <td>PF</td>\n",
       "      <td>82.40</td>\n",
       "      <td>-17.73</td>\n",
       "      <td>-149.15</td>\n",
       "      <td>Pension Oaoa</td>\n",
       "    </tr>\n",
       "    <tr>\n",
       "      <th>21</th>\n",
       "      <td>Micheweni</td>\n",
       "      <td>TZ</td>\n",
       "      <td>75.81</td>\n",
       "      <td>-4.97</td>\n",
       "      <td>39.83</td>\n",
       "      <td></td>\n",
       "    </tr>\n",
       "    <tr>\n",
       "      <th>22</th>\n",
       "      <td>Sola</td>\n",
       "      <td>VU</td>\n",
       "      <td>80.60</td>\n",
       "      <td>-13.88</td>\n",
       "      <td>167.55</td>\n",
       "      <td>Leumerus Bungalows</td>\n",
       "    </tr>\n",
       "    <tr>\n",
       "      <th>...</th>\n",
       "      <td>...</td>\n",
       "      <td>...</td>\n",
       "      <td>...</td>\n",
       "      <td>...</td>\n",
       "      <td>...</td>\n",
       "      <td>...</td>\n",
       "    </tr>\n",
       "    <tr>\n",
       "      <th>523</th>\n",
       "      <td>Ishigaki</td>\n",
       "      <td>JP</td>\n",
       "      <td>80.60</td>\n",
       "      <td>24.34</td>\n",
       "      <td>124.16</td>\n",
       "      <td>Hotel Peace Land Ishigakijima</td>\n",
       "    </tr>\n",
       "    <tr>\n",
       "      <th>531</th>\n",
       "      <td>Seoul</td>\n",
       "      <td>KR</td>\n",
       "      <td>75.20</td>\n",
       "      <td>37.57</td>\n",
       "      <td>126.98</td>\n",
       "      <td>LOTTE HOTEL SEOUL</td>\n",
       "    </tr>\n",
       "    <tr>\n",
       "      <th>532</th>\n",
       "      <td>Tuskegee</td>\n",
       "      <td>US</td>\n",
       "      <td>88.00</td>\n",
       "      <td>32.42</td>\n",
       "      <td>-85.69</td>\n",
       "      <td>Kellogg Hotel &amp; Conference Center</td>\n",
       "    </tr>\n",
       "    <tr>\n",
       "      <th>535</th>\n",
       "      <td>Kavaratti</td>\n",
       "      <td>IN</td>\n",
       "      <td>81.01</td>\n",
       "      <td>10.57</td>\n",
       "      <td>72.64</td>\n",
       "      <td>Bismillah Hotel And Lodging</td>\n",
       "    </tr>\n",
       "    <tr>\n",
       "      <th>540</th>\n",
       "      <td>Buala</td>\n",
       "      <td>SB</td>\n",
       "      <td>83.07</td>\n",
       "      <td>-8.14</td>\n",
       "      <td>159.59</td>\n",
       "      <td>Maringe Lagoon Lodge</td>\n",
       "    </tr>\n",
       "  </tbody>\n",
       "</table>\n",
       "<p>179 rows × 6 columns</p>\n",
       "</div>"
      ],
      "text/plain": [
       "          City Country  Max Temp    Lat     Lng  \\\n",
       "0       Albany      US     75.00  42.60  -73.97   \n",
       "15      Padang      ID     76.66  -0.95  100.35   \n",
       "18     Tautira      PF     82.40 -17.73 -149.15   \n",
       "21   Micheweni      TZ     75.81  -4.97   39.83   \n",
       "22        Sola      VU     80.60 -13.88  167.55   \n",
       "..         ...     ...       ...    ...     ...   \n",
       "523   Ishigaki      JP     80.60  24.34  124.16   \n",
       "531      Seoul      KR     75.20  37.57  126.98   \n",
       "532   Tuskegee      US     88.00  32.42  -85.69   \n",
       "535  Kavaratti      IN     81.01  10.57   72.64   \n",
       "540      Buala      SB     83.07  -8.14  159.59   \n",
       "\n",
       "                            Hotel Name  \n",
       "0                                       \n",
       "15                      Mercure Padang  \n",
       "18                        Pension Oaoa  \n",
       "21                                      \n",
       "22                  Leumerus Bungalows  \n",
       "..                                 ...  \n",
       "523      Hotel Peace Land Ishigakijima  \n",
       "531                  LOTTE HOTEL SEOUL  \n",
       "532  Kellogg Hotel & Conference Center  \n",
       "535        Bismillah Hotel And Lodging  \n",
       "540               Maringe Lagoon Lodge  \n",
       "\n",
       "[179 rows x 6 columns]"
      ]
     },
     "execution_count": 46,
     "metadata": {},
     "output_type": "execute_result"
    }
   ],
   "source": [
    "hotel_df"
   ]
  },
  {
   "cell_type": "markdown",
   "metadata": {},
   "source": [
    "## Heatmap of Max Temperature using Hotels DF"
   ]
  },
  {
   "cell_type": "code",
   "execution_count": 50,
   "metadata": {},
   "outputs": [],
   "source": [
    "# Add info box to marker layer\n",
    "info_box_template = \"\"\"\n",
    "<dl>\n",
    "<dt>Hotel Name</dt><dd>{Hotel Name}</dd>\n",
    "<dt>City</dt><dd>{City}</dd>\n",
    "<dt>Country</dt><dd>{Country}</dd>\n",
    "<dt>Max Temp</dt><dd>{Max Temp} °F</dd>\n",
    "</dl>\n",
    "\"\"\""
   ]
  },
  {
   "cell_type": "code",
   "execution_count": 51,
   "metadata": {},
   "outputs": [],
   "source": [
    "# Store the DataFrame Row\n",
    "hotel_info = [info_box_template.format(**row) for index, row in hotel_df.iterrows()]"
   ]
  },
  {
   "cell_type": "code",
   "execution_count": 52,
   "metadata": {},
   "outputs": [
    {
     "data": {
      "application/vnd.jupyter.widget-view+json": {
       "model_id": "09718f9a169e482697e279dd9ff6fbc6",
       "version_major": 2,
       "version_minor": 0
      },
      "text/plain": [
       "Figure(layout=FigureLayout(height='420px'))"
      ]
     },
     "metadata": {},
     "output_type": "display_data"
    }
   ],
   "source": [
    "# Get locations \n",
    "locations = hotel_df[[\"Lat\",\"Lng\"]]\n",
    "\n",
    "# Get temperatures of locations \n",
    "max_temp = hotel_df[\"Max Temp\"]\n",
    "\n",
    "# Create figure\n",
    "fig = gmaps.figure(center=(30.0, 31.0), zoom_level=1.4)\n",
    "\n",
    "# Create heatmap layer\n",
    "heat_layer = gmaps.heatmap_layer(locations, weights=max_temp,\n",
    "                                 dissipating=False, max_intensity=300,\n",
    "                                 point_radius=4)\n",
    "\n",
    "# Create a location marker layer \n",
    "marker_layer = gmaps.marker_layer(locations, info_box_content=hotel_info)\n",
    "\n",
    "# Combine layers to figure\n",
    "fig.add_layer(heat_layer)\n",
    "fig.add_layer(marker_layer)\n",
    "\n",
    "# Show figure\n",
    "fig"
   ]
  },
  {
   "cell_type": "code",
   "execution_count": null,
   "metadata": {},
   "outputs": [],
   "source": []
  }
 ],
 "metadata": {
  "kernelspec": {
   "display_name": "PythonData",
   "language": "python",
   "name": "pythondata"
  },
  "language_info": {
   "codemirror_mode": {
    "name": "ipython",
    "version": 3
   },
   "file_extension": ".py",
   "mimetype": "text/x-python",
   "name": "python",
   "nbconvert_exporter": "python",
   "pygments_lexer": "ipython3",
   "version": "3.8.3"
  }
 },
 "nbformat": 4,
 "nbformat_minor": 4
}
